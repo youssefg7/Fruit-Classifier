{
 "cells": [
  {
   "attachments": {},
   "cell_type": "markdown",
   "metadata": {},
   "source": [
    "# Import all necessary libraries"
   ]
  },
  {
   "cell_type": "code",
   "execution_count": null,
   "metadata": {},
   "outputs": [],
   "source": [
    "import pandas as pd\n",
    "import numpy as np\n",
    "from collections import Counter\n",
    "import matplotlib.pyplot as plt\n",
    "import seaborn as sns\n",
    "from sklearn.decomposition import PCA\n",
    "import cv2\n",
    "import glob\n",
    "import string\n",
    "from mlxtend.plotting import plot_decision_regions\n",
    "from sklearn.preprocessing import StandardScaler\n",
    "from sklearn.neighbors import KNeighborsClassifier\n",
    "from sklearn.tree import DecisionTreeClassifier \n",
    "from sklearn import metrics\n",
    "from sklearn.svm import SVC, NuSVC\n",
    "import warnings\n",
    "warnings.filterwarnings(\"ignore\", category=np.VisibleDeprecationWarning)"
   ]
  },
  {
   "attachments": {},
   "cell_type": "markdown",
   "metadata": {},
   "source": [
    "# Import data"
   ]
  },
  {
   "cell_type": "code",
   "execution_count": null,
   "metadata": {},
   "outputs": [],
   "source": [
    "def getFruits(fruits, set, color=\"RGB\"):\n",
    "    images = []\n",
    "    labels = []\n",
    "        \n",
    "    for i,f in enumerate(fruits):\n",
    "        fruitFolder_path = \"../fruits-360/\" + set + \"/\" + f\n",
    "        j=0\n",
    "        for image_path in glob.glob(fruitFolder_path + \"/*.jpg\"):\n",
    "            if(color==\"BW\"):\n",
    "                image = cv2.imread(image_path, cv2.IMREAD_GRAYSCALE)\n",
    "            else:\n",
    "                image = cv2.imread(image_path)\n",
    "                image = cv2.cvtColor(image, cv2.COLOR_RGB2BGR)\n",
    "            images.append(image)\n",
    "            labels.append(i)\n",
    "            j+=1\n",
    "        # print(\"There are \" , j, set, \"images of \" , fruits[i])\n",
    "    images = np.array(images)\n",
    "    labels = np.array(labels)\n",
    "    return images, labels"
   ]
  },
  {
   "attachments": {},
   "cell_type": "markdown",
   "metadata": {},
   "source": [
    "Import needed fruits data"
   ]
  },
  {
   "cell_type": "code",
   "execution_count": null,
   "metadata": {},
   "outputs": [],
   "source": [
    "fruits = ['Pineapple' , 'Cocos', 'Avocado']\n",
    "training_images, training_labels = getFruits(fruits,\"Training\")\n",
    "test_images, test_labels = getFruits(fruits,\"Test\")"
   ]
  },
  {
   "attachments": {},
   "cell_type": "markdown",
   "metadata": {},
   "source": [
    "# Data Exploration"
   ]
  },
  {
   "cell_type": "code",
   "execution_count": null,
   "metadata": {},
   "outputs": [],
   "source": [
    "def my_fmt(x):\n",
    "    return '{:.1f}%\\n({:.0f})'.format(x, sum(sizes)*x/100)\n",
    "\n",
    "labels = ['Training dataset', 'Testing dataset']\n",
    "sizes = [len(training_labels), len(test_labels)]\n",
    "explode = (0.1, 0)\n",
    "\n",
    "fig1, ax1 = plt.subplots(facecolor=\"#FFFFFF\")\n",
    "ax1.pie(sizes, explode=explode, labels=labels, autopct=my_fmt)\n",
    "plt.title(\"Train to Test samples ratio\")\n",
    "plt.show()"
   ]
  },
  {
   "cell_type": "code",
   "execution_count": null,
   "metadata": {},
   "outputs": [],
   "source": [
    "training = Counter(training_labels).values()\n",
    "testing = Counter(test_labels).values()\n",
    "x = np.arange(len(fruits))\n",
    "width = 0.35 \n",
    "\n",
    "fig, ax = plt.subplots(figsize=(9,7))\n",
    "rects1 = ax.bar(x - width/2, training, width, label='Train Dataset')\n",
    "rects2 = ax.bar(x + width/2, testing, width, label='Test Dataset')\n",
    "\n",
    "ax.set_ylabel('Number of Samples')\n",
    "ax.set_xticks(x, fruits)\n",
    "ax.legend()\n",
    "\n",
    "ax.bar_label(rects1, padding=3)\n",
    "ax.bar_label(rects2, padding=3)\n",
    "\n",
    "plt.show()"
   ]
  },
  {
   "attachments": {},
   "cell_type": "markdown",
   "metadata": {},
   "source": [
    "### - Function that grids pictures"
   ]
  },
  {
   "cell_type": "code",
   "execution_count": null,
   "metadata": {},
   "outputs": [],
   "source": [
    "def plot_image_grid(images, nb_rows, nb_cols, figsize=(15, 15)):\n",
    "    fig, axs = plt.subplots(nb_rows, nb_cols, figsize=figsize)\n",
    "    n = 0\n",
    "    if(nb_rows == 1 or nb_cols ==1):\n",
    "            for i in range(0,nb_cols+nb_rows-1):\n",
    "                axs[i].axis('off')\n",
    "                axs[i].imshow(images[n])\n",
    "                n += 1\n",
    "    else:\n",
    "        for i in range(0, nb_rows):\n",
    "            for j in range(0, nb_cols):\n",
    "                axs[i, j].axis('off')\n",
    "                axs[i, j].imshow(images[n])\n",
    "                n += 1"
   ]
  },
  {
   "cell_type": "markdown",
   "metadata": {},
   "source": [
    "Grid of sample pictures of fruits training set"
   ]
  },
  {
   "cell_type": "code",
   "execution_count": null,
   "metadata": {},
   "outputs": [],
   "source": [
    "print(\"25 Images of\", fruits[training_labels[0]])\n",
    "plot_image_grid(training_images[0:25],5,5, (5,5))\n",
    "\n",
    "print(\"25 Images of\", fruits[training_labels[500]])\n",
    "plot_image_grid(training_images[500:525],5,5, (5,5))\n",
    "\n",
    "print(\"25 Images of\", fruits[training_labels[1000]])\n",
    "plot_image_grid(training_images[1000:1025],5,5, (5,5))"
   ]
  },
  {
   "cell_type": "markdown",
   "metadata": {},
   "source": [
    "# Data transformation:\n",
    "&emsp;&emsp;&emsp;&emsp; - Data reduction: Encode RGB pics (100x100x3) into a Grayscale pics (100x100) to reduce dimensionality.<br>\n",
    "&emsp;&emsp;&emsp;&emsp; - Linearizes each picture (100x100) into a linear array (10,000)."
   ]
  },
  {
   "cell_type": "code",
   "execution_count": null,
   "metadata": {},
   "outputs": [],
   "source": [
    "training_images_BW, training_labels = getFruits(fruits,\"Training\", \"BW\")\n",
    "test_images_BW, test_labels = getFruits(fruits,\"Test\",\"BW\")\n",
    "X_train = [i.flatten() for i in training_images_BW]\n",
    "X_test = [i.flatten() for i in test_images_BW]\n",
    "\n",
    "plot_image_grid([training_images_BW[1],training_images_BW[500],training_images_BW[1000]],1,3,(15,10))"
   ]
  },
  {
   "cell_type": "markdown",
   "metadata": {},
   "source": [
    "### - PCA on grayscale images"
   ]
  },
  {
   "cell_type": "code",
   "execution_count": null,
   "metadata": {},
   "outputs": [],
   "source": [
    "def performPCA(n, images):\n",
    "    pca = PCA(n)\n",
    "    pc = pca.fit_transform(images) # 10,000 -> n\n",
    "    return pca, pc"
   ]
  },
  {
   "cell_type": "code",
   "execution_count": null,
   "metadata": {},
   "outputs": [],
   "source": [
    "# function to reduce dimensions\n",
    "def perform_and_inverse_PCA(n, images):\n",
    "    pca, pc = performPCA(n, images) # 10,000 -> n\n",
    "    reducedBWImages = pca.inverse_transform(pc) # n -> 10,000\n",
    "    return pc, reducedBWImages"
   ]
  },
  {
   "cell_type": "code",
   "execution_count": null,
   "metadata": {},
   "outputs": [],
   "source": [
    "#Compute PCA on train data for 2, 10, 50 PCs\n",
    "train_pc_2, train_reduced_images_2  = perform_and_inverse_PCA(2, X_train)\n",
    "train_pc_10, train_reduced_images_10 = perform_and_inverse_PCA(10, X_train)\n",
    "train_pc_50, train_reduced_images_50 = perform_and_inverse_PCA(50, X_train)\n",
    "\n",
    "#Compute PCA on test data for 2, 10, 50 PCs\n",
    "test_pc_2, test_reduced_images_2 = perform_and_inverse_PCA(2, X_test)\n",
    "test_pc_10, test_reduced_images_10 = perform_and_inverse_PCA(10, X_test)\n",
    "test_pc_50, test_reduced_images_50 = perform_and_inverse_PCA(50, X_test)\n"
   ]
  },
  {
   "attachments": {},
   "cell_type": "markdown",
   "metadata": {},
   "source": [
    "### - Show PCA results on a sample image for 2, 10, 50 principal components"
   ]
  },
  {
   "cell_type": "code",
   "execution_count": null,
   "metadata": {},
   "outputs": [],
   "source": [
    "def showPCA(image,X2, X10, X50):\n",
    "    fig = plt.figure(figsize=(15,15))\n",
    "    ax1 = fig.add_subplot(1,4,1)\n",
    "    ax1.axis('off')\n",
    "    ax1.set_title('Original image')\n",
    "    plt.imshow(image)\n",
    "    ax1 = fig.add_subplot(1,4,2)\n",
    "    ax1.axis('off') \n",
    "    ax1.set_title('50 PC')\n",
    "    plt.imshow(X50)\n",
    "    ax1 = fig.add_subplot(1,4,3)\n",
    "    ax1.axis('off') \n",
    "    ax1.set_title('10 PC')\n",
    "    plt.imshow(X10)\n",
    "    ax2 = fig.add_subplot(1,4,4)\n",
    "    ax2.axis('off') \n",
    "    ax2.set_title('2 PC')\n",
    "    plt.imshow(X2)\n",
    "    plt.show()\n"
   ]
  },
  {
   "cell_type": "code",
   "execution_count": null,
   "metadata": {},
   "outputs": [],
   "source": [
    "image_id = 1\n",
    "image = training_images[image_id]\n",
    "imageBW = training_images_BW[image_id]\n",
    "\n",
    "#Reshape in order to plot images\n",
    "X2 = np.reshape(train_reduced_images_2[image_id], (100,100)).astype(int)\n",
    "X10 = np.reshape(train_reduced_images_10[image_id], (100,100)).astype(int)\n",
    "X50 = np.reshape(train_reduced_images_50[image_id], (100,100)).astype(int)\n",
    "\n",
    "# showPCA(image, X2, X10, X50)\n",
    "plot_image_grid([image,imageBW,X50,X10,X2],1,5,)"
   ]
  },
  {
   "attachments": {},
   "cell_type": "markdown",
   "metadata": {},
   "source": [
    "Scatter training data in 2D"
   ]
  },
  {
   "cell_type": "code",
   "execution_count": null,
   "metadata": {},
   "outputs": [],
   "source": [
    "def getClassNumber(y):\n",
    "    v =[]\n",
    "    i=0\n",
    "    count = 0\n",
    "    for index in y:\n",
    "        if(index == i):\n",
    "            count +=1\n",
    "        else:\n",
    "            v.append(count)\n",
    "            count = 1\n",
    "            i +=1\n",
    "    v.append(count)        \n",
    "    return v\n",
    "\n",
    "def plotPrincipalComponents(X):\n",
    "    v = getClassNumber(training_labels)\n",
    "    colors = 'b', 'g', 'r', 'c', 'm', 'y', 'k', 'grey', 'orange', 'purple'\n",
    "    markers = ['o', 'x' , 'v', 'd']\n",
    "    tot = len(X)\n",
    "    start = 0 \n",
    "    for i,index in enumerate(v):\n",
    "        end = start + index\n",
    "        plt.scatter(X[start:end,0],X[start:end,1] , color=colors[i%len(colors)], marker=markers[i%len(markers)], label = fruits[i])\n",
    "        start = end\n",
    "    plt.xlabel('PC1')\n",
    "    plt.ylabel('PC2')\n",
    "    plt.legend(fruits)"
   ]
  },
  {
   "cell_type": "code",
   "execution_count": null,
   "metadata": {},
   "outputs": [],
   "source": [
    "pca2 = PCA(2)\n",
    "train_pc_2 = pca2.fit_transform(X_train)\n",
    "plotPrincipalComponents(train_pc_2)"
   ]
  },
  {
   "attachments": {},
   "cell_type": "markdown",
   "metadata": {},
   "source": [
    "# SVM"
   ]
  },
  {
   "attachments": {},
   "cell_type": "markdown",
   "metadata": {},
   "source": [
    "### - SVM + PCA"
   ]
  },
  {
   "attachments": {},
   "cell_type": "markdown",
   "metadata": {},
   "source": [
    "Train and Test SVM model considering different count of PCs to find best accuracy."
   ]
  },
  {
   "cell_type": "code",
   "execution_count": null,
   "metadata": {},
   "outputs": [],
   "source": [
    "x_graph = list(range(2,20))\n",
    "y_graph = []\n",
    "max_accuracy = max_accuracy_pc = 0\n",
    "for i in x_graph:\n",
    "    # PCA\n",
    "    pca, train_pc = performPCA(i, X_train)\n",
    "    pca, test_pc = performPCA(i, X_test)\n",
    "    \n",
    "    # SVM train\n",
    "    svm = SVC(kernel=\"linear\", probability=True) # Probability = True, enables 5-fold cross validation.\n",
    "    svm.fit(train_pc, training_labels)\n",
    "    \n",
    "    # SVM test\n",
    "    y_pred=svm.predict(test_pc)\n",
    "    precision = metrics.accuracy_score(y_pred, test_labels) * 100\n",
    "    y_graph.append(precision)\n",
    "    print(precision, i)\n",
    "    if precision > max_accuracy:\n",
    "        max_accuracy = precision\n",
    "        max_accuracy_pc = i\n",
    "\n",
    "print(f\"Best acuracy obtained for linear SVM classifier with PCA is {max_accuracy}% with PCA of {max_accuracy_pc} features.\")\n",
    "\n",
    "plt.plot(x_graph,y_graph)\n",
    "plt.show()"
   ]
  },
  {
   "attachments": {},
   "cell_type": "markdown",
   "metadata": {},
   "source": [
    "Visualize linear SVM decision boundaries after dimensionality reduction to 2 features."
   ]
  },
  {
   "cell_type": "code",
   "execution_count": null,
   "metadata": {},
   "outputs": [],
   "source": [
    "# PCA reduce dimensions to 2\n",
    "pca = PCA(n_components=2)\n",
    "X_train2D = pca.fit_transform(X_train)\n",
    "X_test2D = pca.fit_transform(X_test)\n",
    "\n",
    "# SVM train\n",
    "svm = SVC(kernel='linear', probability=True) # Probability = True, enables 5-fold cross validation.\n",
    "svm.fit(X_train2D, training_labels) \n",
    "\n",
    "# SVM test\n",
    "test_predictions = svm.predict(X_test2D)\n",
    "precision = metrics.accuracy_score(test_predictions, test_labels) * 100\n",
    "print(\"Accuracy with SVM considering only first 2PC: {0:.2f}%\".format(precision))\n",
    "\n",
    "# plot decision boundry\n",
    "plot_decision_regions(X_train2D, training_labels, clf=svm, legend=1)\n",
    "plt.xlabel('PC1')\n",
    "plt.ylabel('PC2')\n",
    "plt.title('Linear SVM Decision Boundaries with only 2 PCs')\n",
    "plt.show()"
   ]
  },
  {
   "attachments": {},
   "cell_type": "markdown",
   "metadata": {},
   "source": [
    "### - SVM without PCA"
   ]
  },
  {
   "cell_type": "code",
   "execution_count": null,
   "metadata": {},
   "outputs": [],
   "source": [
    "# SVM train\n",
    "svm = SVC(kernel=\"linear\", probability=True) # Probability = True, enables 5-fold cross validation.\n",
    "svm.fit(X_train, training_labels)\n",
    "\n",
    "# SVM test\n",
    "y_pred=svm.predict(X_test)\n",
    "precision = metrics.accuracy_score(y_pred, test_labels) * 100\n",
    "\n",
    "print(f\"Accuracy obtained for linear SVM classifier without PCA is {precision}%.\")"
   ]
  },
  {
   "attachments": {},
   "cell_type": "markdown",
   "metadata": {},
   "source": [
    "# SVM with RBF kernel"
   ]
  },
  {
   "cell_type": "code",
   "execution_count": null,
   "metadata": {},
   "outputs": [],
   "source": [
    "x_graph = list(range(1,101))\n",
    "y_graph = []\n",
    "max_accuracy = max_accuracy_pc = 0\n",
    "for i in x_graph:\n",
    "    # PCA\n",
    "    pca, train_pc = performPCA(i, X_train)\n",
    "    pca, test_pc = performPCA(i, X_test)\n",
    "    \n",
    "    # SVM train\n",
    "    svm = SVC(kernel=\"rbf\", probability=True) # Probability = True, enables 5-fold cross validation.\n",
    "    svm.fit(train_pc, training_labels)\n",
    "    \n",
    "    # SVM test\n",
    "    y_pred=svm.predict(test_pc)\n",
    "    precision = metrics.accuracy_score(y_pred, test_labels) * 100\n",
    "    y_graph.append(precision)\n",
    "    if precision > max_accuracy:\n",
    "        max_accuracy = precision\n",
    "        max_accuracy_pc = i\n",
    "\n",
    "print(f\"Best acuracy obtained for RBF SVM classifier with PCA is {max_accuracy}% with PCA of {max_accuracy_pc} features.\")\n",
    "\n",
    "plt.plot(x_graph,y_graph)\n",
    "plt.show()"
   ]
  },
  {
   "cell_type": "code",
   "execution_count": null,
   "metadata": {},
   "outputs": [],
   "source": [
    "# PCA reduce dimensions to 2\n",
    "pca = PCA(n_components=2)\n",
    "X_train2D = pca.fit_transform(X_train)\n",
    "X_test2D = pca.fit_transform(X_test)\n",
    "\n",
    "# SVM train\n",
    "svm = SVC(kernel='rbf', probability=True) # Probability = True, enables 5-fold cross validation.\n",
    "svm.fit(X_train2D, training_labels) \n",
    "\n",
    "# SVM test\n",
    "test_predictions = svm.predict(X_test2D)\n",
    "precision = metrics.accuracy_score(test_predictions, test_labels) * 100\n",
    "print(\"Accuracy with RBF considering only first 2PC: {0:.2f}%\".format(precision))\n",
    "\n",
    "# plot decision boundry\n",
    "plot_decision_regions(X_train2D, training_labels, clf=svm, legend=1)\n",
    "plt.xlabel('PC1')\n",
    "plt.ylabel('PC2')\n",
    "plt.title('RBF Decision Boundaries with only 2 PCs')\n",
    "plt.show()"
   ]
  },
  {
   "attachments": {},
   "cell_type": "markdown",
   "metadata": {},
   "source": [
    "### - RBF without PCA"
   ]
  },
  {
   "cell_type": "code",
   "execution_count": null,
   "metadata": {},
   "outputs": [],
   "source": [
    "# SVM train\n",
    "svm = SVC(kernel=\"rbf\", probability=True)\n",
    "svm.fit(X_train, training_labels)\n",
    "\n",
    "# SVM test\n",
    "y_pred=svm.predict(X_test)\n",
    "precision = metrics.accuracy_score(y_pred, test_labels) * 100\n",
    "print(f\"Accuracy with RBF: {precision}%\")"
   ]
  },
  {
   "attachments": {},
   "cell_type": "markdown",
   "metadata": {},
   "source": [
    "# KNN"
   ]
  },
  {
   "attachments": {},
   "cell_type": "markdown",
   "metadata": {},
   "source": [
    "### - KNN + PCA"
   ]
  },
  {
   "cell_type": "code",
   "execution_count": null,
   "metadata": {},
   "outputs": [],
   "source": [
    "max_accuracy = max_accuracy_pc = max_accuracy_k = 0\n",
    "for k in range(1, 101):\n",
    "    for p in range(2, 11):\n",
    "        # PCA\n",
    "        pca, train_pc = performPCA(p, X_train)\n",
    "        pca, test_pc = performPCA(p, X_test)\n",
    "        \n",
    "        # Train\n",
    "        knn = KNeighborsClassifier(n_neighbors=k)\n",
    "        knn.fit(train_pc, training_labels)\n",
    "        #Test\n",
    "        y_pred = knn.predict(test_pc)\n",
    "        precision = metrics.accuracy_score(y_pred, test_labels) * 100\n",
    "        \n",
    "        if precision > max_accuracy:\n",
    "            max_accuracy = precision\n",
    "            max_accuracy_pc = p\n",
    "            max_accuracy_k = k\n",
    "\n",
    "print(f\"Max accuracy: {max_accuracy}% with {max_accuracy_pc} principal components, and {max_accuracy_k} nearest neighbours.\")\n"
   ]
  },
  {
   "attachments": {},
   "cell_type": "markdown",
   "metadata": {},
   "source": [
    "### - KNN without PCA"
   ]
  },
  {
   "cell_type": "code",
   "execution_count": null,
   "metadata": {},
   "outputs": [],
   "source": [
    "x_graph = list(range(1,151))\n",
    "y_graph = []\n",
    "max_accuracy = max_accuracy_k = 0\n",
    "\n",
    "for k in x_graph:     \n",
    "    knn = KNeighborsClassifier(n_neighbors=k)\n",
    "    knn.fit(X_train, training_labels)\n",
    "    \n",
    "    y_pred = knn.predict(X_test)\n",
    "    precision = metrics.accuracy_score(y_pred, test_labels) * 100\n",
    "    y_graph.append(precision)\n",
    "    if precision > max_accuracy:\n",
    "        max_accuracy = precision\n",
    "        max_accuracy_k = k\n",
    "\n",
    "print(f\"Max accuracy: {max_accuracy}% with {max_accuracy_k} nearest neighbours.\")\n",
    "plt.plot(x_graph, y_graph)\n",
    "plt.xlabel(\"K\")\n",
    "plt.ylabel(\"Accuracy (%)\")\n",
    "plt.grid()\n",
    "plt.title(\"KNN classification accuracy\")\n",
    "plt.show()"
   ]
  },
  {
   "attachments": {},
   "cell_type": "markdown",
   "metadata": {},
   "source": [
    "# DECISION TREES"
   ]
  },
  {
   "attachments": {},
   "cell_type": "markdown",
   "metadata": {},
   "source": [
    "### - DT + PCA"
   ]
  },
  {
   "cell_type": "code",
   "execution_count": null,
   "metadata": {},
   "outputs": [],
   "source": [
    "max_accuracy = max_accuracy_pc = max_accuracy_d = 0\n",
    "x_graph = list(range(1,101))\n",
    "y_graph = []\n",
    "for p in x_graph:\n",
    "    # PCA\n",
    "    pca, train_pc = performPCA(p, X_train)\n",
    "    pca, test_pc = performPCA(p, X_test)\n",
    "    \n",
    "    # SVM train\n",
    "    dt = DecisionTreeClassifier(criterion='entropy')\n",
    "    dt.fit(train_pc, training_labels)\n",
    "    \n",
    "    # SVM test\n",
    "    y_pred=dt.predict(test_pc)\n",
    "    precision = metrics.accuracy_score(y_pred, test_labels) * 100\n",
    "    y_graph.append(precision)\n",
    "    if precision > max_accuracy:\n",
    "        max_accuracy = precision\n",
    "        max_accuracy_d = dt.get_depth()\n",
    "        max_accuracy_pc = p\n",
    "\n",
    "plt.plot(x_graph,y_graph)\n",
    "plt.xlabel(\"Principal Components\")\n",
    "plt.ylabel(\"Accuracy %\")\n",
    "plt.grid()\n",
    "plt.title(\"Decision tree classification accuracy for different count of principal components.\")\n",
    "print(\"max_accuracy:\", max_accuracy, \"at\", max_accuracy_pc, \"principal components and tree of\", max_accuracy_d, \"depth.\")"
   ]
  },
  {
   "attachments": {},
   "cell_type": "markdown",
   "metadata": {},
   "source": [
    "### - DT without PCA"
   ]
  },
  {
   "cell_type": "code",
   "execution_count": null,
   "metadata": {},
   "outputs": [],
   "source": [
    "# SVM train\n",
    "dt = DecisionTreeClassifier(criterion='entropy')\n",
    "dt.fit(X_train, training_labels)\n",
    "\n",
    "# SVM test\n",
    "y_pred=dt.predict(X_test)\n",
    "precision = metrics.accuracy_score(y_pred, test_labels) * 100\n",
    "\n",
    "print(f\"accuracy: {precision}%\")"
   ]
  }
 ],
 "metadata": {
  "kernelspec": {
   "display_name": "base",
   "language": "python",
   "name": "python3"
  },
  "language_info": {
   "codemirror_mode": {
    "name": "ipython",
    "version": 3
   },
   "file_extension": ".py",
   "mimetype": "text/x-python",
   "name": "python",
   "nbconvert_exporter": "python",
   "pygments_lexer": "ipython3",
   "version": "3.9.12"
  },
  "orig_nbformat": 4,
  "vscode": {
   "interpreter": {
    "hash": "779b20cd187e0dab4bbd5826b992f2beb41fe8afed04eb930e9d30d5147ee9fe"
   }
  }
 },
 "nbformat": 4,
 "nbformat_minor": 2
}
